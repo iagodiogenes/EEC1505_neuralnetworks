{
 "cells": [
  {
   "cell_type": "markdown",
   "metadata": {},
   "source": [
    "## Questão 4: Redes Neurais"
   ]
  },
  {
   "cell_type": "markdown",
   "metadata": {},
   "source": [
    "### Cálculo da matriz de covariância"
   ]
  },
  {
   "cell_type": "code",
   "execution_count": 50,
   "metadata": {},
   "outputs": [
    {
     "name": "stdout",
     "output_type": "stream",
     "text": [
      "Esse é o vetor X: \n",
      "\n",
      " [[5 2 4]\n",
      " [4 6 7]\n",
      " [3 2 4]\n",
      " [3 6 5]] \n",
      "\n",
      "Esse é o vetor média: \n",
      "\n",
      " [[ 5.        ]\n",
      " [ 5.33333333]\n",
      " [ 6.66666667]] \n",
      "\n",
      "Matriz S:\n",
      "\n",
      " [[ 0.91666667 -0.66666667  0.        ]\n",
      " [-0.66666667  5.33333333  2.66666667]\n",
      " [ 0.          2.66666667  2.        ]]\n"
     ]
    }
   ],
   "source": [
    "import numpy as np\n",
    "from numpy.linalg import inv\n",
    "\n",
    "#definindo os vetores das variáveis aleatórias\n",
    "\n",
    "x1 = np.matrix('5;2;4')\n",
    "x2 = np.matrix('4;6;7')\n",
    "x3 = np.matrix('3;2;4')\n",
    "x4 = np.matrix('3;6;5')\n",
    "\n",
    "#print(x1,'\\n\\n',x2,'\\n\\n',x3,'\\n\\n',x4)\n",
    "\n",
    "#x = np.matrix('5 4 3 3;2 6 2 6;4 7 4 5')\n",
    "x = np.matrix('5 2 4; 4 6 7; 3 2 4; 3 6 5')\n",
    "print('Esse é o vetor X: \\n\\n',x,'\\n')\n",
    "#x = x.transpose()\n",
    "\n",
    "\n",
    "x_media = np.matrix([ [ np.sum(x[:,0])/3 ], [ (np.sum(x[:,1]))/3] , [(np.sum(x[:,2]))/3] ])\n",
    "\n",
    "print('Esse é o vetor média: \\n\\n',x_media,'\\n')\n",
    "\n",
    "#definindo a matriz covariância\n",
    "x = x.transpose()\n",
    "s = np.cov(x)\n",
    "print('Matriz S:\\n\\n',s)\n",
    "\n",
    "#soma = np.matrix('0 0 0 ; 0 0 0 ; 0 0 0 ')\n",
    "#print('Essa é a matriz soma: \\n',soma,'\\n')\n",
    "\n",
    "#for i in range (0,4):\n",
    " #   aux = np.matrix(x[i]-x_media)\n",
    "    #print('olha só:\\n',aux,'\\n')\n",
    "  #  aux*aux.transpose()\n",
    "    \n",
    "   # soma = soma + aux\n",
    "   # print('hi!')\n",
    "#soma = soma / (4)    \n",
    "#print(soma)\n"
   ]
  },
  {
   "cell_type": "markdown",
   "metadata": {},
   "source": [
    "### Cálculo da forma fatorada da Matriz de Covariância"
   ]
  },
  {
   "cell_type": "code",
   "execution_count": 53,
   "metadata": {
    "scrolled": false
   },
   "outputs": [
    {
     "name": "stdout",
     "output_type": "stream",
     "text": [
      "Autovalores da matriz S:\n",
      "\n",
      "  [ 6.86860959  1.05395536  0.32743504] \n",
      "\n",
      "Autovetores da Matriz S: \n",
      "\n",
      " [[-0.09776694 -0.85145428 -0.51523513]\n",
      " [ 0.87285487  0.17534257 -0.45538924]\n",
      " [ 0.47808577 -0.4942475   0.72605331]]\n",
      "\n",
      " Matriz diagonal dos autovalores:\n",
      "\n",
      " [[ 6.86860959  0.          0.        ]\n",
      " [ 0.          1.05395536  0.        ]\n",
      " [ 0.          0.          0.32743504]]\n",
      "\n",
      " Matriz S formada pela forma fatorada: \n",
      "\n",
      " [[  9.16666667e-01  -6.66666667e-01   5.13653021e-16]\n",
      " [ -6.66666667e-01   5.33333333e+00   2.66666667e+00]\n",
      " [  4.65733420e-16   2.66666667e+00   2.00000000e+00]]\n"
     ]
    }
   ],
   "source": [
    "from numpy import linalg as LA\n",
    "\n",
    "d,v = LA.eig(s)\n",
    "\n",
    "print('Autovalores da matriz S:\\n\\n ',d,'\\n\\nAutovetores da Matriz S: \\n\\n',v)\n",
    "\n",
    "d2 = np.matrix([ [d[0],0,0],[0,d[1],0],[0,0,d[2]]  ])\n",
    "print('\\n Matriz diagonal dos autovalores:\\n\\n',d2)\n",
    "\n",
    "#print(d,'\\n\\n',v)\n",
    "\n",
    "v_1 = inv(v)\n",
    "\n",
    "print('\\n Matriz S formada pela forma fatorada: \\n\\n',v*d2*v_1)"
   ]
  },
  {
   "cell_type": "markdown",
   "metadata": {},
   "source": [
    "### Cálculo de S^3 através da forma fatorada"
   ]
  },
  {
   "cell_type": "code",
   "execution_count": 4,
   "metadata": {},
   "outputs": [
    {
     "data": {
      "text/plain": [
       "matrix([[   3.95543981,  -27.81944444,  -14.66666667],\n",
       "        [ -27.81944444,  246.92592593,  135.11111111],\n",
       "        [ -14.66666667,  135.11111111,   74.37037037]])"
      ]
     },
     "execution_count": 4,
     "metadata": {},
     "output_type": "execute_result"
    }
   ],
   "source": [
    "v*d2*d2*d2*v_1"
   ]
  },
  {
   "cell_type": "code",
   "execution_count": 5,
   "metadata": {},
   "outputs": [
    {
     "data": {
      "text/plain": [
       "array([[   3.95543981,  -27.81944444,  -14.66666667],\n",
       "       [ -27.81944444,  246.92592593,  135.11111111],\n",
       "       [ -14.66666667,  135.11111111,   74.37037037]])"
      ]
     },
     "execution_count": 5,
     "metadata": {},
     "output_type": "execute_result"
    }
   ],
   "source": [
    "s2 = np.matmul(s,s)\n",
    "np.matmul(s,s2)"
   ]
  },
  {
   "cell_type": "markdown",
   "metadata": {},
   "source": [
    "### Calculando o traço da matriz"
   ]
  },
  {
   "cell_type": "code",
   "execution_count": 7,
   "metadata": {},
   "outputs": [
    {
     "data": {
      "text/plain": [
       "8.25"
      ]
     },
     "execution_count": 7,
     "metadata": {},
     "output_type": "execute_result"
    }
   ],
   "source": [
    "s[0,0]+s[1,1]+s[2,2]"
   ]
  },
  {
   "cell_type": "markdown",
   "metadata": {},
   "source": [
    "Calculando a norma Euclidiana da matriz: "
   ]
  },
  {
   "cell_type": "code",
   "execution_count": 6,
   "metadata": {},
   "outputs": [
    {
     "data": {
      "text/plain": [
       "6.8686095911265861"
      ]
     },
     "execution_count": 6,
     "metadata": {},
     "output_type": "execute_result"
    }
   ],
   "source": [
    "np.linalg.norm(s, ord=2)"
   ]
  },
  {
   "cell_type": "markdown",
   "metadata": {},
   "source": [
    "### Norma euclidiana dos vetores aleatórios"
   ]
  },
  {
   "cell_type": "code",
   "execution_count": 8,
   "metadata": {},
   "outputs": [
    {
     "name": "stdout",
     "output_type": "stream",
     "text": [
      "6.7082039325\n",
      "10.0498756211\n",
      "5.38516480713\n",
      "8.36660026534\n"
     ]
    }
   ],
   "source": [
    "print(np.linalg.norm(x1, ord=2))\n",
    "print(np.linalg.norm(x2, ord=2))\n",
    "print(np.linalg.norm(x3, ord=2))\n",
    "print(np.linalg.norm(x4, ord=2))"
   ]
  },
  {
   "cell_type": "markdown",
   "metadata": {},
   "source": [
    "### Norma de Mahalanobis dos vetores aleatórios"
   ]
  },
  {
   "cell_type": "markdown",
   "metadata": {},
   "source": [
    "![img](https://wikimedia.org/api/rest_v1/media/math/render/svg/60cac59afa88452a425a87659f960ce63118c93c)"
   ]
  },
  {
   "cell_type": "code",
   "execution_count": 9,
   "metadata": {},
   "outputs": [
    {
     "name": "stdout",
     "output_type": "stream",
     "text": [
      "[[ 5.94506098]]\n",
      "[[ 6.48796964]]\n",
      "[[ 4.34093884]]\n",
      "[[ 4.90853848]]\n"
     ]
    }
   ],
   "source": [
    "print(np.sqrt((x1).transpose()*inv(s)*(x1)))\n",
    "print(np.sqrt((x2).transpose()*inv(s)*(x2)))\n",
    "print(np.sqrt((x3).transpose()*inv(s)*(x3)))\n",
    "print(np.sqrt((x4).transpose()*inv(s)*(x4)))"
   ]
  },
  {
   "cell_type": "markdown",
   "metadata": {},
   "source": [
    "#### Se a matriz de covariância for a identidade, coincide com a Norma euclidiana:"
   ]
  },
  {
   "cell_type": "code",
   "execution_count": 10,
   "metadata": {},
   "outputs": [
    {
     "name": "stdout",
     "output_type": "stream",
     "text": [
      "[[ 6.70820393]]\n",
      "[[ 10.04987562]]\n",
      "[[ 5.38516481]]\n",
      "[[ 8.36660027]]\n"
     ]
    }
   ],
   "source": [
    "print(np.sqrt((x1).transpose()*(x1)))\n",
    "print(np.sqrt((x2).transpose()*(x2)))\n",
    "print(np.sqrt((x3).transpose()*(x3)))\n",
    "print(np.sqrt((x4).transpose()*(x4)))"
   ]
  },
  {
   "cell_type": "markdown",
   "metadata": {},
   "source": [
    "### Distribuição de probabilidade dos vetores aleatórios"
   ]
  },
  {
   "cell_type": "code",
   "execution_count": 56,
   "metadata": {},
   "outputs": [
    {
     "data": {
      "image/png": "[encoded data removed]",
      "text/plain": [
       "<matplotlib.figure.Figure at 0x7fdef10f4080>"
      ]
     },
     "metadata": {},
     "output_type": "display_data"
    }
   ],
   "source": [
    "import matplotlib.pyplot as plt\n",
    "g1 = np.random.normal(x_media[0,0], np.sqrt(s[0,0]), 1000)\n",
    "plt.hist(g1)\n",
    "plt.show()"
   ]
  },
  {
   "cell_type": "code",
   "execution_count": 57,
   "metadata": {},
   "outputs": [
    {
     "data": {
      "image/png": "[encoded data removed]",
      "text/plain": [
       "<matplotlib.figure.Figure at 0x7fdef34df9b0>"
      ]
     },
     "metadata": {},
     "output_type": "display_data"
    }
   ],
   "source": [
    "import matplotlib.pyplot as plt\n",
    "g2 = np.random.normal(x_media[1,0], np.sqrt(s[1,1]), 1000)\n",
    "plt.hist(g2)\n",
    "plt.show()"
   ]
  },
  {
   "cell_type": "code",
   "execution_count": 61,
   "metadata": {},
   "outputs": [
    {
     "data": {
      "image/png": "[encoded data removed]",
      "text/plain": [
       "<matplotlib.figure.Figure at 0x7fdef118df98>"
      ]
     },
     "metadata": {},
     "output_type": "display_data"
    }
   ],
   "source": [
    "import matplotlib.pyplot as plt\n",
    "g3 = np.random.normal(x_media[2,0], np.sqrt(s[2,2]), 1000)\n",
    "plt.hist(g3)\n",
    "plt.show()"
   ]
  },
  {
   "cell_type": "code",
   "execution_count": 62,
   "metadata": {},
   "outputs": [
    {
     "data": {
      "image/png": "[encoded data removed]",
      "text/plain": [
       "<matplotlib.figure.Figure at 0x7fdef12ad5f8>"
      ]
     },
     "metadata": {},
     "output_type": "display_data"
    }
   ],
   "source": [
    "import matplotlib.pyplot as plt\n",
    "g4 = g1 + g2 + g3\n",
    "plt.hist(g4)\n",
    "plt.show()"
   ]
  },
  {
   "cell_type": "code",
   "execution_count": null,
   "metadata": {
    "collapsed": true
   },
   "outputs": [],
   "source": []
  }
 ],
 "metadata": {
  "kernelspec": {
   "display_name": "Python 3",
   "language": "python",
   "name": "python3"
  },
  "language_info": {
   "codemirror_mode": {
    "name": "ipython",
    "version": 3
   },
   "file_extension": ".py",
   "mimetype": "text/x-python",
   "name": "python",
   "nbconvert_exporter": "python",
   "pygments_lexer": "ipython3",
   "version": "3.4.5"
  }
 },
 "nbformat": 4,
 "nbformat_minor": 2
}
