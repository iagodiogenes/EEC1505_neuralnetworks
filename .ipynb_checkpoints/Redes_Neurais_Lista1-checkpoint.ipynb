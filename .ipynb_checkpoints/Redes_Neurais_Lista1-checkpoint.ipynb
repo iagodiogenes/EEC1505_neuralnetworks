{
 "cells": [
  {
   "cell_type": "markdown",
   "metadata": {},
   "source": [
    "# Questão 2"
   ]
  },
  {
   "cell_type": "markdown",
   "metadata": {},
   "source": [
    "### Aprendizado supervisionado:\n",
    "\n",
    "O aprendizado supervisionado pode ser comparado com um cenário em que há a presença de um professor, em que este detém conhecimento do ambiente desconhecido sobre o qual a máquina está tentando aprender. Esse conhecimento prévio é geralmente um conjunto de dados na forma entrada-saída.\n",
    "\n",
    "Assim, o professor fornece à Rede Neural qual a saída desejada para uma determinada entrada e os parâmetros da rede são ajustados levando em consideração a informação fornecida pelo professor e um sinal de erro (Saída desejada - Resposta do sistema). O objetivo é que, com os ajustes dos parâmetros, seja possível tratar corretamente novas entradas (não-rotuladas). \n",
    "\n",
    "Aprendizado por regressão e classificação são dois exemplos de aprendizado supervisionado. Em regressão, a saída é numérica. Por exemplo, em uma rede de telefonia celular, pode-se desejar prever qual a vazão de um usuário de acordo com sua localização em relação à estação rádio-base, seu histórico de vazão, etc. Em problemas de classificação, a saída da rede é um código indicando uma classe. Por exemplo, um cenário em que um banco deseja classificar os cliente em grupos de acordo com sua probabilidade de pagar um empréstimo (baixo risco, alto risco, médio risco) de acordo com alguns dados como: idade, salário, etc.\n",
    "\n",
    "### Aprendizado não-supervisionado:\n",
    "\n",
    "Em aprendizado não-supervisionado não há a figura do professor. A rede neural dispõe apenas dos dados de entrada e o objetivo é encontrar padrões. Por exemplo, pode-se operar através do clustering, ou seja, formar grupos de dados por similaridade. Ou seja, o sistema tem o objetivo de representar os dados para tomada de decisões, previsões de entradas futuras, etc.\n",
    "\n",
    "Um bom exemplo de aprendizado não-supervisionado está em algoritmos de compressão de imagens, em que pixels que representam tons de uma mesma cor podem ser agrupados (clustering).\n",
    "\n",
    "### Semi-supervisionado:\n",
    "\n",
    "O aprendizado semi-supervisionado permite à rede aprender através de exemplos rotulados e não rotulados. Esse tipo de aprendizado surgiu pois exemplos rotulados são mais raros em comparação a exemplos não rotulados. Assim, os exemplos rotulados são utilizados para o aprendizado inicial, de forma que seja possível continuar o processo com os dados não rotulados. \n",
    "\n",
    "É possível utilizar o aprendizado semi-supervisionado em problemas de classificação ou clustering. Por exemplo, em problemas de clustering, os exemplos rotulados são usados no processo de formação dos clusters. Possuir informação prévia sobre os dados que irão formar os cluster geralmente rende melhores resultados.\n",
    "\n",
    "Um exemplo é o algoritmo Co-training, introduzido em 1998, que precisa apenas de um pequeno conjunto de exemplos rotulados. Seu conceito principal é a utilização de dois classificadores que rotulam exemplos um para o outro, aumentando a precisão do processo de classificação. O artigo original que propôs o Co-training utilizou um experimento consistindo na classificação de páginas web como \"página inicial de um curso acadêmico\" ou não. O algoritmo classificou corretamente 788 páginas com apenas 12 exemplos rotulados inicialmente (95% de sucesso).\n",
    "\n",
    "### Aprendizado por reforço:\n",
    "\n",
    "No aprendizado por reforço, assim como no aprendizado não-supervisionado, não há a figura do professor, ou seja, a Rede Neural não possui informação do ambiente. O aprendizado acontece através de uma contínua interação com o ambiente, com o objetivo de minimizar algum indicador de performance.  \n",
    "\n",
    "Em problemas de aprendizagem por reforço, a resposta do sistema é uma sequência de ações. De forma que seu objetivo é minimizar uma função de custo que na verdade representa o acúmulo do custo de diversas ações, tomadas em sequência. Ou seja, o algoritmo deve encontrar as ações que são melhores para o sistema em geral, pois nesse caso uma só ação não é mais importante, mas o conjunto certo de ações que leva ao resultado esperado."
   ]
  },
  {
   "cell_type": "markdown",
   "metadata": {},
   "source": [
    "# Questão 4"
   ]
  },
  {
   "cell_type": "markdown",
   "metadata": {},
   "source": [
    "### Cálculo da matriz de covariância"
   ]
  },
  {
   "cell_type": "code",
   "execution_count": 15,
   "metadata": {},
   "outputs": [
    {
     "name": "stdout",
     "output_type": "stream",
     "text": [
      "Esse é o vetor X, formado pelos vetores aleatórios: \n",
      "\n",
      " [[5 2 4]\n",
      " [4 6 7]\n",
      " [3 2 4]\n",
      " [3 6 5]] \n",
      "\n",
      "Esse é o vetor média: \n",
      "\n",
      " [[ 5.        ]\n",
      " [ 5.33333333]\n",
      " [ 6.66666667]] \n",
      "\n",
      "Matriz de Covariância S:\n",
      "\n",
      " [[ 0.91666667 -0.66666667  0.        ]\n",
      " [-0.66666667  5.33333333  2.66666667]\n",
      " [ 0.          2.66666667  2.        ]]\n"
     ]
    }
   ],
   "source": [
    "import numpy as np\n",
    "from numpy.linalg import inv\n",
    "\n",
    "#definindo os vetores das variáveis aleatórias\n",
    "x1 = np.matrix('5;2;4')\n",
    "x2 = np.matrix('4;6;7')\n",
    "x3 = np.matrix('3;2;4')\n",
    "x4 = np.matrix('3;6;5')\n",
    "\n",
    "#definindo os vetores aleatórios como uma matriz\n",
    "x = np.matrix('5 2 4; 4 6 7; 3 2 4; 3 6 5')\n",
    "print('Esse é o vetor X, formado pelos vetores aleatórios: \\n\\n',x,'\\n')\n",
    "\n",
    "#calculando o vetor média\n",
    "x_media = np.matrix([ [ np.sum(x[:,0])/3 ], [ (np.sum(x[:,1]))/3] , [(np.sum(x[:,2]))/3] ])\n",
    "print('Esse é o vetor média: \\n\\n',x_media,'\\n')\n",
    "\n",
    "#definindo a matriz covariância\n",
    "x = x.transpose()\n",
    "s = np.cov(x)\n",
    "print('Matriz de Covariância S:\\n\\n',s)"
   ]
  },
  {
   "cell_type": "markdown",
   "metadata": {},
   "source": [
    "### Cálculo da forma fatorada da Matriz de Covariância"
   ]
  },
  {
   "cell_type": "code",
   "execution_count": 16,
   "metadata": {
    "scrolled": false
   },
   "outputs": [
    {
     "name": "stdout",
     "output_type": "stream",
     "text": [
      "Autovalores da matriz S:\n",
      "\n",
      "  [ 6.86860959  1.05395536  0.32743504] \n",
      "\n",
      "Autovetores da Matriz S: \n",
      "\n",
      " [[-0.09776694 -0.85145428 -0.51523513]\n",
      " [ 0.87285487  0.17534257 -0.45538924]\n",
      " [ 0.47808577 -0.4942475   0.72605331]]\n",
      "\n",
      " Matriz diagonal dos autovalores (D):\n",
      "\n",
      " [[ 6.86860959  0.          0.        ]\n",
      " [ 0.          1.05395536  0.        ]\n",
      " [ 0.          0.          0.32743504]]\n",
      "\n",
      " Matriz S calculada pela forma fatorada: V*D*V^-1 \n",
      "\n",
      " [[  9.16666667e-01  -6.66666667e-01   5.13653021e-16]\n",
      " [ -6.66666667e-01   5.33333333e+00   2.66666667e+00]\n",
      " [  4.65733420e-16   2.66666667e+00   2.00000000e+00]]\n",
      "\n",
      " É possível perceber que coincide com a matriz S calculada anteriormente.\n"
     ]
    }
   ],
   "source": [
    "from numpy import linalg as LA\n",
    "\n",
    "#cálculo dos autovalores e autovetores\n",
    "d,v = LA.eig(s)\n",
    "print('Autovalores da matriz S:\\n\\n ',d,'\\n\\nAutovetores da Matriz S: \\n\\n',v)\n",
    "\n",
    "#formando a matriz D\n",
    "d2 = np.matrix([ [d[0],0,0],[0,d[1],0],[0,0,d[2]]  ])\n",
    "print('\\n Matriz diagonal dos autovalores (D):\\n\\n',d2)\n",
    "\n",
    "#print(d,'\\n\\n',v)\n",
    "\n",
    "v_1 = inv(v)\n",
    "\n",
    "print('\\n Matriz S calculada pela forma fatorada: V*D*V^-1 \\n\\n',v*d2*v_1)\n",
    "print('\\n É possível perceber que coincide com a matriz S calculada anteriormente.')"
   ]
  },
  {
   "cell_type": "markdown",
   "metadata": {},
   "source": [
    "### Cálculo de $S^3$ através da forma fatorada"
   ]
  },
  {
   "cell_type": "code",
   "execution_count": 17,
   "metadata": {},
   "outputs": [
    {
     "data": {
      "text/plain": [
       "matrix([[   3.95543981,  -27.81944444,  -14.66666667],\n",
       "        [ -27.81944444,  246.92592593,  135.11111111],\n",
       "        [ -14.66666667,  135.11111111,   74.37037037]])"
      ]
     },
     "execution_count": 17,
     "metadata": {},
     "output_type": "execute_result"
    }
   ],
   "source": [
    "#calculo de s³\n",
    "v*d2*d2*d2*v_1"
   ]
  },
  {
   "cell_type": "code",
   "execution_count": 18,
   "metadata": {},
   "outputs": [
    {
     "data": {
      "text/plain": [
       "array([[   3.95543981,  -27.81944444,  -14.66666667],\n",
       "       [ -27.81944444,  246.92592593,  135.11111111],\n",
       "       [ -14.66666667,  135.11111111,   74.37037037]])"
      ]
     },
     "execution_count": 18,
     "metadata": {},
     "output_type": "execute_result"
    }
   ],
   "source": [
    "#calculo de s³ de forma direta, para efeito de comparação\n",
    "s2 = np.matmul(s,s)\n",
    "np.matmul(s,s2)"
   ]
  },
  {
   "cell_type": "markdown",
   "metadata": {},
   "source": [
    "### Cálculo da Norma Euclidiana"
   ]
  },
  {
   "cell_type": "markdown",
   "metadata": {},
   "source": [
    "Calculando a norma Euclidiana da matriz: "
   ]
  },
  {
   "cell_type": "code",
   "execution_count": 19,
   "metadata": {},
   "outputs": [
    {
     "data": {
      "text/plain": [
       "6.8686095911265861"
      ]
     },
     "execution_count": 19,
     "metadata": {},
     "output_type": "execute_result"
    }
   ],
   "source": [
    "np.linalg.norm(s, ord=2)"
   ]
  },
  {
   "cell_type": "markdown",
   "metadata": {},
   "source": [
    "Calculando o traço da matriz S para comparação:"
   ]
  },
  {
   "cell_type": "code",
   "execution_count": 20,
   "metadata": {},
   "outputs": [
    {
     "data": {
      "text/plain": [
       "8.25"
      ]
     },
     "execution_count": 20,
     "metadata": {},
     "output_type": "execute_result"
    }
   ],
   "source": [
    "s[0,0]+s[1,1]+s[2,2]"
   ]
  },
  {
   "cell_type": "markdown",
   "metadata": {},
   "source": [
    "### Norma euclidiana dos vetores aleatórios"
   ]
  },
  {
   "cell_type": "code",
   "execution_count": 21,
   "metadata": {},
   "outputs": [
    {
     "name": "stdout",
     "output_type": "stream",
     "text": [
      "6.7082039325\n",
      "10.0498756211\n",
      "5.38516480713\n",
      "8.36660026534\n"
     ]
    }
   ],
   "source": [
    "print(np.linalg.norm(x1, ord=2))\n",
    "print(np.linalg.norm(x2, ord=2))\n",
    "print(np.linalg.norm(x3, ord=2))\n",
    "print(np.linalg.norm(x4, ord=2))"
   ]
  },
  {
   "cell_type": "markdown",
   "metadata": {},
   "source": [
    "### Norma de Mahalanobis dos vetores aleatórios"
   ]
  },
  {
   "cell_type": "markdown",
   "metadata": {},
   "source": [
    "![img](https://wikimedia.org/api/rest_v1/media/math/render/svg/60cac59afa88452a425a87659f960ce63118c93c)"
   ]
  },
  {
   "cell_type": "code",
   "execution_count": 22,
   "metadata": {},
   "outputs": [
    {
     "name": "stdout",
     "output_type": "stream",
     "text": [
      "[[ 5.94506098]]\n",
      "[[ 6.48796964]]\n",
      "[[ 4.34093884]]\n",
      "[[ 4.90853848]]\n"
     ]
    }
   ],
   "source": [
    "print(np.sqrt((x1).transpose()*inv(s)*(x1)))\n",
    "print(np.sqrt((x2).transpose()*inv(s)*(x2)))\n",
    "print(np.sqrt((x3).transpose()*inv(s)*(x3)))\n",
    "print(np.sqrt((x4).transpose()*inv(s)*(x4)))"
   ]
  },
  {
   "cell_type": "markdown",
   "metadata": {},
   "source": [
    "#### Se a matriz de covariância for a identidade, coincide com a Norma euclidiana:"
   ]
  },
  {
   "cell_type": "code",
   "execution_count": 23,
   "metadata": {},
   "outputs": [
    {
     "name": "stdout",
     "output_type": "stream",
     "text": [
      "[[ 6.70820393]]\n",
      "[[ 10.04987562]]\n",
      "[[ 5.38516481]]\n",
      "[[ 8.36660027]]\n"
     ]
    }
   ],
   "source": [
    "print(np.sqrt((x1).transpose()*(x1)))\n",
    "print(np.sqrt((x2).transpose()*(x2)))\n",
    "print(np.sqrt((x3).transpose()*(x3)))\n",
    "print(np.sqrt((x4).transpose()*(x4)))"
   ]
  },
  {
   "cell_type": "markdown",
   "metadata": {},
   "source": [
    "### Distribuição de probabilidade dos vetores aleatórios"
   ]
  },
  {
   "cell_type": "code",
   "execution_count": 24,
   "metadata": {
    "scrolled": false
   },
   "outputs": [
    {
     "data": {
      "image/png": "[encoded data removed]",
      "text/plain": [
       "<matplotlib.figure.Figure at 0x7fcb4b40cfd0>"
      ]
     },
     "metadata": {},
     "output_type": "display_data"
    }
   ],
   "source": [
    "import matplotlib.pyplot as plt\n",
    "g1 = np.random.normal(x_media[0,0], np.sqrt(s[0,0]), 1000)\n",
    "plt.hist(g1)\n",
    "plt.show()"
   ]
  },
  {
   "cell_type": "code",
   "execution_count": 25,
   "metadata": {},
   "outputs": [
    {
     "data": {
      "image/png": "[encoded data removed]",
      "text/plain": [
       "<matplotlib.figure.Figure at 0x7fcb7ba81748>"
      ]
     },
     "metadata": {},
     "output_type": "display_data"
    }
   ],
   "source": [
    "import matplotlib.pyplot as plt\n",
    "g2 = np.random.normal(x_media[1,0], np.sqrt(s[1,1]), 1000)\n",
    "plt.hist(g2)\n",
    "plt.show()"
   ]
  },
  {
   "cell_type": "code",
   "execution_count": 26,
   "metadata": {},
   "outputs": [
    {
     "data": {
      "image/png": "[encoded data removed]",
      "text/plain": [
       "<matplotlib.figure.Figure at 0x7fcb4b518f60>"
      ]
     },
     "metadata": {},
     "output_type": "display_data"
    }
   ],
   "source": [
    "import matplotlib.pyplot as plt\n",
    "g3 = np.random.normal(x_media[2,0], np.sqrt(s[2,2]), 1000)\n",
    "plt.hist(g3)\n",
    "plt.show()"
   ]
  },
  {
   "cell_type": "markdown",
   "metadata": {},
   "source": [
    "# Questão 6"
   ]
  },
  {
   "cell_type": "markdown",
   "metadata": {},
   "source": [
    "### Método do gradiente conjugado\n",
    "\n",
    "Para esse método consideramos a minimização da função quadrática:\n",
    "\n",
    "$$ f(x)= (1/2) x^TAx -b^Tx + c $$\n",
    "\n",
    "Como a forma é quadrática, há apenas um vector que minimiza $f$, que é o ponto crítico, solução de:\n",
    "\n",
    "$$ \\nabla f(x) = 0 $$\n",
    "\n",
    "E, nesse caso: \n",
    "\n",
    "$$ f(x) = \\nabla (1/2)(A^T+A)x-b = Ax -b $$\n",
    "\n",
    "Assim, se encontrarmos o ponto de mínimo, ele será solução do sistema linear $Ax = b$\n",
    "\n",
    "Consideramos métodos iterativos de optimização do tipo:\n",
    "\n",
    "$$ x^{(n+1)} = x^{(n)}+ a_n r^{(n)} $$\n",
    "\n",
    "de forma a que haja uma descida, ou seja, $f(x^{(n+1)}) < f(x^{(n)})$. O vector $r^{(n)}$ define a direcção de descida.\n",
    "\n",
    "Dois vetores $\\textbf{x}$ e $\\textbf{y}$ são ditos com direção conjugadas se:\n",
    "\n",
    "$$ <u,v>_A= u . Av = u^TAv $$\n",
    "\n",
    "$$ <u,v>_A= u . Av = 0 $$\n",
    "\n",
    "Seja N a dimensão da matriz A e sejam d(0), ..., d(N-1) direcções conjugadas\n",
    "\n",
    "Se considerarmos d^{(n)} como direcções de descida, temos a iteração\n",
    "\n",
    "$$ x^{(n+1)} = x^{(n)} + a_nd^{(n)} $$\n",
    "\n",
    "Queremos agora encontrar o valor $a_n$ que minimiza $f$, de entre os possíveis valores  $x^{(n)} + ad^{(n)}$\n",
    "\n",
    "De forma, semelhante, podemos obter\n",
    "\n",
    "$$ \\frac{d}{da}  f(x^{(n)} + ad^{(n)}) =  r^{(n)} \\cdot d^{(n)}-aAd^{(n)}\\cdot d^{(n)} $$\n",
    "\n",
    "e assim \n",
    "\n",
    "$$ a_n = r^{(n)} \\cdot \\frac{d^{(n)}}{d^{(n)} . Ad^{(n)}} $$\n",
    "\n",
    "Sendo que: \n",
    "\n",
    "$$  r^{(n)} =  b - Ax^{(n)} $$ \n",
    "\n",
    "Obtemos de forma genérica, um método de direcções conjugadas:\n",
    "\n",
    "$$x^{(n+1)} = x^{(n)} + \\frac{ r^{(n)} \\cdot d^{(n)} }{ d^{(n)} \\cdot ad^{(n)} } d^{(n)}$$\n",
    "\n",
    "mas ainda não definimos as direcções $d^{(n)}$, apenas assumimos que existiam a priori, e eram conjugadas.\n",
    "\n",
    "Assim, o caso particular do método das direcções conjugadas é o método do gradiente conjugado, em que elas são obtidas através do gradiente. \n",
    "\n",
    "Recordamos que no caso linear o gradiente é dado pelo resíduo $r^{(n)} =  b - Ax^{(n)}.$ \n",
    "Através de um processo de ortogonalização de Gram-Schmidt, através dos sucessivos resíduos (gradientes) podemos construir as direcções $d^{(n)}$ que serão conjugadas. \n",
    "\n",
    "Assim, podemos resumir o Método dos Gradientes Conjugados:\n",
    "\n",
    "1. Dado $ x^{(0)}$ definimos $ d^{(0)} = r^{(0)} = b-Ax^{(0)}$\n",
    "\n",
    "2. Definimos $x^{(n+1)} = x^{(n)}+ a_n d^{(n)}$, com $a_n = r^{(n)} \\cdot \\frac {d^{(n)}}  {d^{(n)} \\cdot Ad^{(n)}}$\n",
    "\n",
    "3. Definimos $r^{(n+1)} = r^{(n)} - a_n Ad^{(n)},$ e $d^{(n+1)} = r^{(n+1)} + b_n d^{(n)},$ com $b_n =  r^{(n+1)} \\cdot \\frac {r^{(n+1)}}{r^{(n)} \\cdot r^{(n)}}$\n",
    "\n",
    "4. Regressamos ao 2º passo, até alcançar critério de parada.\n",
    "\n"
   ]
  },
  {
   "cell_type": "markdown",
   "metadata": {},
   "source": [
    "# Questão 8"
   ]
  },
  {
   "cell_type": "markdown",
   "metadata": {},
   "source": [
    "Função a ser minimizada:\n",
    "\n",
    "$$ f(x) = 8x_1^2 - x_1x_2 + 10x^2 + x_1 + x_2 - 5$$\n",
    "\n",
    "Está sujeito à restrição abaixo:\n",
    "\n",
    "$$ g_1(x_1,x_2) = x_1 + x_2 = 0$$ \n",
    "\n",
    "Logo:\n",
    "\n",
    "$$L(x_1,x_2,\\lambda) = L (x_1,x_2) - \\lambda R(x_1,x_2) $$\n",
    "\n",
    "$$L(x_1,x_2,\\lambda) = 8x_1^2 - x_1x_2 + 10x^2 + x_1 + x_2 - 5 - \\lambda x_1 - \\lambda x_2 $$\n",
    "\n",
    "Em seguida:\n",
    "\n",
    "$$ \\frac{\\partial L}{\\partial x_1} = 16x_1 - x_2 + 1 - \\lambda$$\n",
    "\n",
    "$$ \\frac{\\partial L}{\\partial x_2} = -x_1 + 20x_2 + 1 - \\lambda$$\n",
    "\n",
    "Assim, podemos resolver o sistma com três equações:\n",
    "\n",
    "$$ \\frac{\\partial L}{\\partial x_1} = 16x_1 - x_2 + 1 - \\lambda$$\n",
    "\n",
    "$$ \\frac{\\partial L}{\\partial x_2} = -x_1 + 20x_2 + 1 - \\lambda$$\n",
    "\n",
    "$$ x_1 + x_2 = 0$$ \n",
    "\n",
    "Resolvendo o sistema:\n",
    "\n",
    "$$ 16x_1 - x_2 + 1 = -x_1 + 20x_2 + 1 $$\n",
    "\n",
    "$$ 17x_1 - 21x_2 = 0 $$\n",
    "\n",
    "$$ -17x_1 - 21x_2 = 0 $$\n",
    "\n",
    "Logo, de acordo com as expressões acima:\n",
    "\n",
    "$$ x_1 = x_2 = 0 $$\n",
    "\n",
    "$$\\lambda = 1 $$"
   ]
  },
  {
   "cell_type": "code",
   "execution_count": null,
   "metadata": {
    "collapsed": true
   },
   "outputs": [],
   "source": [
    "x = input()"
   ]
  },
  {
   "cell_type": "code",
   "execution_count": null,
   "metadata": {
    "collapsed": true
   },
   "outputs": [],
   "source": []
  }
 ],
 "metadata": {
  "kernelspec": {
   "display_name": "Python 3",
   "language": "python",
   "name": "python3"
  },
  "language_info": {
   "codemirror_mode": {
    "name": "ipython",
    "version": 3
   },
   "file_extension": ".py",
   "mimetype": "text/x-python",
   "name": "python",
   "nbconvert_exporter": "python",
   "pygments_lexer": "ipython3",
   "version": "3.4.5"
  }
 },
 "nbformat": 4,
 "nbformat_minor": 2
}
