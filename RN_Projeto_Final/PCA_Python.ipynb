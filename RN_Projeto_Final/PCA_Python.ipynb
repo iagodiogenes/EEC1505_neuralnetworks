{
 "cells": [
  {
   "cell_type": "markdown",
   "metadata": {},
   "source": [
    "## Importando todas as bibliotecas necessárias"
   ]
  },
  {
   "cell_type": "code",
   "execution_count": 3,
   "metadata": {},
   "outputs": [],
   "source": [
    "import pandas as pd\n",
    "import numpy as np\n",
    "from sklearn.decomposition import PCA\n",
    "from sklearn import preprocessing\n",
    "from matplotlib import pyplot as plt\n",
    "import somoclu\n",
    "from sklearn.cluster import KMeans\n",
    "\n",
    "from sklearn import svm\n",
    "from sklearn.neural_network import MLPClassifier\n",
    "\n",
    "from keras.models import Sequential\n",
    "from keras.layers import Dense\n",
    "from keras.utils import plot_model\n",
    "\n",
    "from sklearn.preprocessing import StandardScaler\n",
    "\n",
    "plt.style.use('seaborn')"
   ]
  },
  {
   "cell_type": "markdown",
   "metadata": {},
   "source": [
    "## Importando e tratando os dados do csv\n",
    "- 569 amostras"
   ]
  },
  {
   "cell_type": "code",
   "execution_count": 4,
   "metadata": {
    "scrolled": false
   },
   "outputs": [],
   "source": [
    "# lendo os dados do csv\n",
    "df = pd.read_csv(\n",
    "    filepath_or_buffer='data.csv', \n",
    "    header=None, \n",
    "    sep=',')\n",
    "\n",
    "# renomeando as colunas de acordo com os dados da primeira linha\n",
    "df = df.rename(columns=df.iloc[0])\n",
    "\n",
    "# retirando a linha que contém os labels\n",
    "df = df.iloc[1:]\n",
    "\n",
    "# retirando as colunas diagnosis e id\n",
    "df = df.drop(['id'], axis=1)\n",
    "\n",
    "# retirando as colunas que tiverem valores NaN\n",
    "df = df.dropna(axis='columns')"
   ]
  },
  {
   "cell_type": "markdown",
   "metadata": {},
   "source": [
    "# Dividindo o dataset para validação cruzada e mais alguns ajustes\n",
    "- Grupo de teste = 189\n",
    "- Grupo de treinamento = 380\n",
    "- Total = 569"
   ]
  },
  {
   "cell_type": "code",
   "execution_count": 5,
   "metadata": {
    "scrolled": true
   },
   "outputs": [
    {
     "data": {
      "text/plain": [
       "array([1, 1, 0, 1, 0, 0, 0, 1, 1, 1, 0, 1, 1, 0, 1, 0, 0, 1, 1, 0, 1, 0,\n",
       "       0, 0, 0, 0, 0, 0, 0, 1, 0, 1, 0, 0, 0, 0, 1, 0, 0, 0, 0, 0, 0, 1,\n",
       "       0, 0, 0, 0, 1, 0, 0, 1, 0, 0, 0, 1, 0, 0, 0, 1, 0, 1, 1, 0, 1, 0,\n",
       "       1, 0, 0, 0, 1, 0, 0, 0, 0, 1, 1, 1, 1, 0, 1, 0, 0, 0, 0, 1, 1, 0,\n",
       "       1, 0, 0, 0, 1, 0, 1, 0, 0, 1, 1, 1, 1, 0, 0, 0, 0, 0, 0, 0, 0, 0,\n",
       "       0, 0, 0, 0, 1, 1, 0, 0, 0, 1, 1, 0, 1, 1, 1, 1, 0, 0, 1, 1, 1, 0,\n",
       "       0, 0, 0, 0, 0, 1, 1, 1, 0, 0, 0, 0, 0, 0, 1, 1, 1, 0, 0, 0, 0, 0,\n",
       "       0, 1, 1, 0, 0, 0, 1, 1, 1, 1, 1, 0, 1, 1, 0, 0, 0, 1, 1, 0, 1, 0,\n",
       "       1, 0, 0, 0], dtype=object)"
      ]
     },
     "execution_count": 5,
     "metadata": {},
     "output_type": "execute_result"
    }
   ],
   "source": [
    "data_test = df.sample(n=180)\n",
    "data_train = df.drop(data_test.index)\n",
    "\n",
    "# Substituindo Maligno por 0 e Benigno por 1 e convertendo para array\n",
    "# os labels separados serão utilizados para treinamento supervisionado\n",
    "l_test = data_test['diagnosis'].replace(['M','B'], [1,0])\n",
    "l_train = data_train['diagnosis'].replace(['M','B'], [1,0])\n",
    "\n",
    "# convertendo os labels para um array\n",
    "l_test = np.array(l_test, dtype=pd.Series)\n",
    "l_train = np.array(l_train, dtype=pd.Series)\n",
    "\n",
    "#removendo a coluna diagnosis\n",
    "data_test = data_test.drop(['diagnosis'], axis=1)\n",
    "data_train = data_train.drop(['diagnosis'], axis=1)\n",
    "\n",
    "# criando um set de variáveis normalizadas\n",
    "d_test_norm = preprocessing.normalize(data_test)\n",
    "d_train_norm = preprocessing.normalize(data_train)\n",
    "\n",
    "data_train = data_train.values\n",
    "data_test = data_test.values\n",
    "\n",
    "l_test"
   ]
  },
  {
   "cell_type": "markdown",
   "metadata": {},
   "source": [
    "## Principal component analysis (PCA) no SKLearn\n",
    "\n",
    "Linear dimensionality reduction using Singular Value Decomposition of the data to project it to a lower dimensional space."
   ]
  },
  {
   "cell_type": "code",
   "execution_count": 6,
   "metadata": {},
   "outputs": [
    {
     "name": "stderr",
     "output_type": "stream",
     "text": [
      "/home/iagodiogenes/anaconda3/envs/tensorflow/lib/python3.6/site-packages/sklearn/utils/validation.py:475: DataConversionWarning: Data with input dtype object was converted to float64 by StandardScaler.\n",
      "  warnings.warn(msg, DataConversionWarning)\n"
     ]
    }
   ],
   "source": [
    "# Definição do objeto PCA, restringindo a apenas duas componentes, para melhor visualização\n",
    "pca = PCA(n_components=6)\n",
    "data_2d = StandardScaler().fit_transform(data_train)\n",
    "data_2d = pca.fit_transform(data_2d)\n",
    "\n",
    "#pca_test = PCA(n_components=10)\n",
    "#pca_test.fit(data_test) # treinamento do PCA\n",
    "\n",
    "pca_test = PCA(n_components=6)\n",
    "data_2d_test = StandardScaler().fit_transform(data_test)\n",
    "data_2d_test = pca_test.fit_transform(data_2d_test)"
   ]
  },
  {
   "cell_type": "markdown",
   "metadata": {},
   "source": [
    "## Extraindo algumas informações do PCA"
   ]
  },
  {
   "cell_type": "code",
   "execution_count": 7,
   "metadata": {
    "scrolled": true
   },
   "outputs": [
    {
     "name": "stdout",
     "output_type": "stream",
     "text": [
      "\n",
      "Conjunto de Treinamento: \n",
      "\n",
      "Número de Componentes:  6\n",
      "Contribuições de cada componente:  [44.92072716 18.59850664  9.4139303   6.90034169  5.72967823  3.81488904]\n",
      "\n",
      "Conjunto de teste: \n",
      "\n",
      "Número de Componentes:  6\n",
      "Contribuições de cada componente:  [43.76239078 20.32577581  9.15392691  5.94633393  4.80912451  4.25471373]\n"
     ]
    }
   ],
   "source": [
    "# Principal axes in feature space, representing the directions of maximum variance in the data.\n",
    "pca_c = pca.components_\n",
    "pca_c_test = pca_test.components_\n",
    "\n",
    "# percentual de cada dimensão\n",
    "pca_perc = pca.explained_variance_ratio_\n",
    "pca_perc_test = pca_test.explained_variance_ratio_\n",
    "\n",
    "print('\\nConjunto de Treinamento: \\n')\n",
    "print('Número de Componentes: ',pca.n_components_)\n",
    "print('Contribuições de cada componente: ', pca_perc*100)\n",
    "print('\\nConjunto de teste: \\n')\n",
    "print('Número de Componentes: ',pca_test.n_components_)\n",
    "print('Contribuições de cada componente: ', pca_perc_test*100)"
   ]
  },
  {
   "cell_type": "code",
   "execution_count": 51,
   "metadata": {},
   "outputs": [
    {
     "data": {
      "image/png": "[encoded data removed]",
      "text/plain": [
       "<Figure size 576x396 with 1 Axes>"
      ]
     },
     "metadata": {},
     "output_type": "display_data"
    },
    {
     "data": {
      "image/png": "[encoded data removed]",
      "text/plain": [
       "<Figure size 576x396 with 1 Axes>"
      ]
     },
     "metadata": {},
     "output_type": "display_data"
    }
   ],
   "source": [
    "# Plot da contribuição de cada dimensão\n",
    "plt.bar(np.arange(1,7),pca_perc)\n",
    "plt.title('Contribuição de cada dimensão: Conjunto de Treinamento')\n",
    "plt.show()\n",
    "\n",
    "# Plot da contribuição de cada dimensão\n",
    "plt.bar(np.arange(1,7),pca_perc_test)\n",
    "plt.title('Contribuição de cada dimensão: Conjunto de Teste')\n",
    "plt.show()"
   ]
  },
  {
   "cell_type": "markdown",
   "metadata": {},
   "source": [
    "# Treinando com o Kmeans pós-PCA"
   ]
  },
  {
   "cell_type": "code",
   "execution_count": 9,
   "metadata": {},
   "outputs": [
    {
     "name": "stdout",
     "output_type": "stream",
     "text": [
      "CPU times: user 28 ms, sys: 4 ms, total: 32 ms\n",
      "Wall time: 30.2 ms\n"
     ]
    },
    {
     "data": {
      "image/png": "[encoded data removed]",
      "text/plain": [
       "<Figure size 576x396 with 1 Axes>"
      ]
     },
     "metadata": {},
     "output_type": "display_data"
    },
    {
     "data": {
      "image/png": "[encoded data removed]",
      "text/plain": [
       "<Figure size 576x396 with 1 Axes>"
      ]
     },
     "metadata": {},
     "output_type": "display_data"
    }
   ],
   "source": [
    "%time k1 = KMeans(n_clusters=2, random_state=0,  max_iter=1000, tol=1e-5).fit(data_2d)\n",
    "l_k1 = k1.labels_ # labels\n",
    "\n",
    "# posição dos centros dos clusters\n",
    "c = k1.cluster_centers_\n",
    "\n",
    "# plot dos clusters\n",
    "fig1 = plt.figure()\n",
    "plt.plot(data_2d[l_k1==0,0], data_2d[l_k1==0,1], 'o', alpha=0.5)\n",
    "plt.plot(data_2d[l_k1==1,0], data_2d[l_k1==1,1], 'o', alpha=0.5)\n",
    "plt.plot(c[:, 0], c[:, 1],marker='P')\n",
    "plt.legend(['Maligno','Benigno'])\n",
    "plt.show()\n",
    "\n",
    "# plot dos clusters originais\n",
    "fig1 = plt.figure()\n",
    "plt.plot(data_2d[l_train==0,0], data_2d[l_train==0,1], 'o', alpha=0.5)\n",
    "plt.plot(data_2d[l_train==1,0], data_2d[l_train==1,1], 'o', alpha=0.5)\n",
    "plt.plot(c[:, 0], c[:, 1],marker='P')\n",
    "plt.legend(['Maligno','Benigno'])\n",
    "plt.show()"
   ]
  },
  {
   "cell_type": "markdown",
   "metadata": {},
   "source": [
    "## Calculando o número de acertos do Kmeans"
   ]
  },
  {
   "cell_type": "code",
   "execution_count": 10,
   "metadata": {},
   "outputs": [
    {
     "name": "stdout",
     "output_type": "stream",
     "text": [
      "358\n",
      "Acertos:  92.03084832904884\n"
     ]
    }
   ],
   "source": [
    "count = 0\n",
    "for i in range(0,len(l_k1)):\n",
    "    if (l_k1[i]==l_train[i]):\n",
    "        count += 1\n",
    "\n",
    "print(count)\n",
    "print('Acertos: ', 100*count/len(l_k1))"
   ]
  },
  {
   "cell_type": "markdown",
   "metadata": {},
   "source": [
    "## Prevendo com os dados de teste"
   ]
  },
  {
   "cell_type": "code",
   "execution_count": 11,
   "metadata": {},
   "outputs": [
    {
     "name": "stdout",
     "output_type": "stream",
     "text": [
      "160\n",
      "Acertos:  88.88888888888889\n"
     ]
    }
   ],
   "source": [
    "l_k1_predicted = k1.predict(data_2d_test)\n",
    "\n",
    "count = 0\n",
    "for i in range(0,len(l_k1_predicted)):\n",
    "    if (l_k1_predicted[i]==l_test[i]):\n",
    "        count += 1\n",
    "\n",
    "print(count)\n",
    "print('Acertos: ', 100*count/len(l_k1_predicted))"
   ]
  },
  {
   "cell_type": "markdown",
   "metadata": {},
   "source": [
    "## Usando o Kmeans sem o PCA\n",
    "\n",
    "Como a dimensão é muito alta, será apenas calculado o número de acertos"
   ]
  },
  {
   "cell_type": "code",
   "execution_count": 12,
   "metadata": {},
   "outputs": [
    {
     "name": "stdout",
     "output_type": "stream",
     "text": [
      "CPU times: user 64 ms, sys: 108 ms, total: 172 ms\n",
      "Wall time: 28.3 ms\n"
     ]
    }
   ],
   "source": [
    "%time k2 = KMeans(n_clusters=2, random_state=200,  max_iter=1000,tol=1e-5).fit(data_train)\n",
    "l_semPCA = k2.labels_ # labels"
   ]
  },
  {
   "cell_type": "code",
   "execution_count": 13,
   "metadata": {},
   "outputs": [
    {
     "name": "stdout",
     "output_type": "stream",
     "text": [
      "324\n",
      "Acertos:  0.8329048843187661\n"
     ]
    }
   ],
   "source": [
    "count2 = 0\n",
    "for i in range(0,len(l_semPCA)):\n",
    "    if (l_semPCA[i]==l_train[i]):\n",
    "        count2 += 1\n",
    "\n",
    "print(count2)\n",
    "print('Acertos: ', count2/len(l_semPCA))"
   ]
  },
  {
   "cell_type": "markdown",
   "metadata": {},
   "source": [
    "## Prevendo com os dados de teste"
   ]
  },
  {
   "cell_type": "code",
   "execution_count": 14,
   "metadata": {},
   "outputs": [
    {
     "name": "stdout",
     "output_type": "stream",
     "text": [
      "160\n",
      "Acertos:  0.8888888888888888\n"
     ]
    }
   ],
   "source": [
    "l_k2_predicted = k2.predict(data_test)\n",
    "\n",
    "count = 0\n",
    "for i in range(0,len(l_k2_predicted)):\n",
    "    if (l_k2_predicted[i]==l_test[i]):\n",
    "        count += 1\n",
    "\n",
    "print(count)\n",
    "print('Acertos: ', count/len(l_k2_predicted))"
   ]
  },
  {
   "cell_type": "markdown",
   "metadata": {},
   "source": [
    "## Definindo uma função de plot para o Keras"
   ]
  },
  {
   "cell_type": "code",
   "execution_count": 15,
   "metadata": {},
   "outputs": [],
   "source": [
    "def plot_decision_boundary(X, y, model, steps=1000, cmap='Paired'):\n",
    "    \"\"\"\n",
    "    Function to plot the decision boundary and data points of a model.\n",
    "    Data points are colored based on their actual label.\n",
    "    \"\"\"\n",
    "    cmap = plt.get_cmap(cmap)\n",
    "    \n",
    "    # Define region of interest by data limits\n",
    "    xmin, xmax = X[:,0].min() - 0.1, X[:,0].max() + 0.1\n",
    "    ymin, ymax = X[:,1].min() - 0.1, X[:,1].max() + 0.1\n",
    "    steps = 1000\n",
    "    x_span = np.linspace(xmin, xmax, steps)\n",
    "    y_span = np.linspace(ymin, ymax, steps)\n",
    "    xx, yy = np.meshgrid(x_span, y_span)\n",
    "\n",
    "    # Make predictions across region of interest\n",
    "    labels = model.predict(np.c_[xx.ravel(), yy.ravel()])\n",
    "\n",
    "    # Plot decision boundary in region of interest\n",
    "    z = labels.reshape(xx.shape)\n",
    "    \n",
    "    fig, ax = plt.subplots()\n",
    "    ax.contourf(xx, yy, z, cmap=cmap, alpha=0.5)\n",
    "\n",
    "    # Get predicted labels on training data and plot\n",
    "    train_labels = model.predict(X)\n",
    "    ax.scatter(X[:,0], X[:,1], c=y, cmap=cmap, lw=0)\n",
    "    \n",
    "    return fig, ax"
   ]
  },
  {
   "cell_type": "markdown",
   "metadata": {},
   "source": [
    "## Resolvendo o problema de classificação com uma MLP, sem o PCA"
   ]
  },
  {
   "cell_type": "code",
   "execution_count": 18,
   "metadata": {},
   "outputs": [
    {
     "name": "stdout",
     "output_type": "stream",
     "text": [
      "CPU times: user 4.46 s, sys: 372 ms, total: 4.83 s\n",
      "Wall time: 3.16 s\n"
     ]
    },
    {
     "data": {
      "image/png": "[encoded data removed]",
      "text/plain": [
       "<Figure size 576x396 with 1 Axes>"
      ]
     },
     "metadata": {},
     "output_type": "display_data"
    },
    {
     "name": "stdout",
     "output_type": "stream",
     "text": [
      "Precisão =  87.14652850572739\n"
     ]
    }
   ],
   "source": [
    "model1 = Sequential()\n",
    "\n",
    "model1.add(Dense(4, input_shape=(30,), activation='relu'))\n",
    "model1.add(Dense(2, activation='relu'))\n",
    "model1.add(Dense(1, activation='sigmoid'))\n",
    "\n",
    "model1.compile(loss='binary_crossentropy',\n",
    "              optimizer='adam',\n",
    "              metrics=['accuracy'])\n",
    "\n",
    "# rótulos para treinamento\n",
    "y_train = l_train\n",
    "ep = 300\n",
    "\n",
    "%time history1 = model1.fit(data_train, y_train, epochs=ep, batch_size=100, verbose = 0)\n",
    "\n",
    "plt.plot(history1.history['acc'],label='Accuracy')\n",
    "plt.plot(history1.history['loss'],label='Loss')\n",
    "plt.legend()\n",
    "plt.show()\n",
    "\n",
    "print('Precisão = ',history1.history['acc'][ep-1]*100)"
   ]
  },
  {
   "cell_type": "markdown",
   "metadata": {},
   "source": [
    "# Prevendo com os dados de teste"
   ]
  },
  {
   "cell_type": "code",
   "execution_count": 19,
   "metadata": {},
   "outputs": [
    {
     "name": "stdout",
     "output_type": "stream",
     "text": [
      "180/180 [==============================] - 0s 306us/step\n",
      "164\n",
      "Acertos:  91.11111111111111\n"
     ]
    }
   ],
   "source": [
    "model1_pred = model1.predict(data_test,verbose=1)\n",
    "\n",
    "for i in np.arange(0,len(model1_pred)):\n",
    "    if model1_pred[i] > 0.5:\n",
    "        model1_pred[i] = 1\n",
    "    else:\n",
    "        model1_pred[i] = 0\n",
    "        \n",
    "count = 0\n",
    "for i in range(0,len(model1_pred)):\n",
    "    if (model1_pred[i]==l_test[i]):\n",
    "        count += 1\n",
    "\n",
    "print(count)\n",
    "print('Acertos: ', 100*count/len(model1_pred))"
   ]
  },
  {
   "cell_type": "markdown",
   "metadata": {},
   "source": [
    "## Usando a mesma MLP, após o PCA"
   ]
  },
  {
   "cell_type": "code",
   "execution_count": 20,
   "metadata": {},
   "outputs": [
    {
     "name": "stdout",
     "output_type": "stream",
     "text": [
      "CPU times: user 3.84 s, sys: 488 ms, total: 4.33 s\n",
      "Wall time: 2.61 s\n"
     ]
    },
    {
     "data": {
      "image/png": "[encoded data removed]",
      "text/plain": [
       "<Figure size 576x396 with 1 Axes>"
      ]
     },
     "metadata": {},
     "output_type": "display_data"
    },
    {
     "name": "stdout",
     "output_type": "stream",
     "text": [
      "Precisão =  97.94344613974995\n"
     ]
    }
   ],
   "source": [
    "model2 = Sequential()\n",
    "\n",
    "model2.add(Dense(4, input_shape=(6,), activation='relu'))\n",
    "model2.add(Dense(2, activation='relu'))\n",
    "model2.add(Dense(1, activation='sigmoid'))\n",
    "\n",
    "model2.compile(loss='binary_crossentropy',\n",
    "              optimizer='adam',\n",
    "              metrics=['accuracy'])\n",
    "\n",
    "# rótulos para treinamento\n",
    "y_train = l_train\n",
    "ep = 300\n",
    "\n",
    "%time history = model2.fit(data_2d, y_train, epochs=ep, batch_size=100, verbose = 0)\n",
    "\n",
    "plt.plot(history.history['acc'],label='Accuracy')\n",
    "plt.plot(history.history['loss'],label='Loss')\n",
    "plt.legend()\n",
    "plt.show()\n",
    "\n",
    "print('Precisão = ',history.history['acc'][ep-1]*100)\n",
    "\n",
    "#plot_decision_boundary(data_2d, y_train, model2, cmap=plt.cm.coolwarm)\n",
    "#plt.show()"
   ]
  },
  {
   "cell_type": "markdown",
   "metadata": {},
   "source": [
    "# Prevendo com os dados de teste"
   ]
  },
  {
   "cell_type": "code",
   "execution_count": 21,
   "metadata": {},
   "outputs": [
    {
     "name": "stdout",
     "output_type": "stream",
     "text": [
      "180/180 [==============================] - 0s 340us/step\n",
      "169\n",
      "Acertos:  0.9388888888888889\n"
     ]
    }
   ],
   "source": [
    "model2_pred = model2.predict(data_2d_test,verbose=1)\n",
    "\n",
    "for i in np.arange(0,len(model2_pred)):\n",
    "    if model2_pred[i] > 0.5:\n",
    "        model2_pred[i] = 1\n",
    "    else:\n",
    "        model2_pred[i] = 0\n",
    "        \n",
    "count = 0\n",
    "for i in range(0,len(model2_pred)):\n",
    "    if (model2_pred[i]==l_test[i]):\n",
    "        count += 1\n",
    "\n",
    "print(count)\n",
    "print('Acertos: ', count/len(model2_pred))"
   ]
  },
  {
   "cell_type": "markdown",
   "metadata": {},
   "source": [
    "## Usando Deep Learning, após PCA"
   ]
  },
  {
   "cell_type": "code",
   "execution_count": 31,
   "metadata": {},
   "outputs": [
    {
     "name": "stdout",
     "output_type": "stream",
     "text": [
      "CPU times: user 2.31 s, sys: 124 ms, total: 2.44 s\n",
      "Wall time: 1.83 s\n"
     ]
    },
    {
     "data": {
      "image/png": "[encoded data removed]",
      "text/plain": [
       "<Figure size 576x396 with 1 Axes>"
      ]
     },
     "metadata": {},
     "output_type": "display_data"
    },
    {
     "name": "stdout",
     "output_type": "stream",
     "text": [
      "Precisão =  99.74293083642013\n"
     ]
    }
   ],
   "source": [
    "model3 = Sequential()\n",
    "\n",
    "model3.add(Dense(128, input_shape=(6,), activation='relu'))\n",
    "model3.add(Dense(64, activation='relu'))\n",
    "model3.add(Dense(32, activation='relu'))\n",
    "model3.add(Dense(18, activation='relu'))\n",
    "model3.add(Dense(1, activation='sigmoid'))\n",
    "\n",
    "model3.compile(loss='binary_crossentropy',\n",
    "              optimizer='adam',\n",
    "              metrics=['accuracy'])\n",
    "\n",
    "# rótulos para treinamento\n",
    "y_train = l_train\n",
    "ep = 70\n",
    "\n",
    "%time history = model3.fit(data_2d, y_train, epochs=ep, batch_size=100, verbose = 0)\n",
    "\n",
    "plt.plot(history.history['acc'],label='Accuracy')\n",
    "plt.plot(history.history['loss'],label='Loss')\n",
    "plt.legend()\n",
    "plt.show()\n",
    "\n",
    "print('Precisão = ',history.history['acc'][ep-1]*100)\n",
    "\n",
    "#plot_decision_boundary(data_2d, y_train, model3, cmap=plt.cm.coolwarm)\n",
    "#plt.show()"
   ]
  },
  {
   "cell_type": "markdown",
   "metadata": {},
   "source": [
    "# Prevendo com os dados de teste"
   ]
  },
  {
   "cell_type": "code",
   "execution_count": 32,
   "metadata": {},
   "outputs": [
    {
     "name": "stdout",
     "output_type": "stream",
     "text": [
      "180/180 [==============================] - 0s 897us/step\n",
      "168\n",
      "Acertos:  0.9333333333333333\n"
     ]
    }
   ],
   "source": [
    "model3_pred = model3.predict(data_2d_test,verbose=1)\n",
    "\n",
    "for i in np.arange(0,len(model3_pred)):\n",
    "    if model3_pred[i] > 0.5:\n",
    "        model3_pred[i] = 1\n",
    "    else:\n",
    "        model3_pred[i] = 0\n",
    "        \n",
    "count = 0\n",
    "for i in range(0,len(model3_pred)):\n",
    "    if (model3_pred[i]==l_test[i]):\n",
    "        count += 1\n",
    "\n",
    "print(count)\n",
    "print('Acertos: ', count/len(model3_pred))"
   ]
  },
  {
   "cell_type": "markdown",
   "metadata": {},
   "source": [
    "## Usando a SVM"
   ]
  },
  {
   "cell_type": "code",
   "execution_count": 48,
   "metadata": {},
   "outputs": [
    {
     "name": "stdout",
     "output_type": "stream",
     "text": [
      "CPU times: user 4 ms, sys: 0 ns, total: 4 ms\n",
      "Wall time: 2.45 ms\n",
      "[1 1 0 1 0 1 0 1 1 1 0 0 1 0 1 1 0 1 1 0 1 0 0 0 0 0 0 0 0 1 0 1 0 0 0 0 1\n",
      " 1 0 0 0 0 0 0 0 0 0 0 1 0 0 1 0 0 0 1 0 0 0 1 0 1 1 0 1 0 1 0 0 0 1 0 0 0\n",
      " 0 1 1 1 1 0 1 0 1 0 0 1 1 0 1 0 0 0 1 0 0 0 1 1 1 1 1 0 0 0 0 0 0 0 0 0 0\n",
      " 0 0 1 1 1 0 0 0 1 1 0 1 1 1 1 0 0 1 1 1 0 0 0 0 0 0 1 1 1 0 0 0 0 0 0 1 1\n",
      " 1 0 0 0 0 0 0 1 1 0 0 0 1 1 1 1 0 0 1 1 0 0 0 0 1 0 1 0 1 0 0 0]\n"
     ]
    }
   ],
   "source": [
    "y_train = l_train\n",
    "\n",
    "data_2d = data_2d.astype('int')\n",
    "data_test = data_test.astype('float')\n",
    "y_train = y_train.astype('int')\n",
    "\n",
    "model = svm.SVC(kernel='poly',degree=1)\n",
    "%time model.fit(data_2d, y_train)\n",
    "\n",
    "#Predict Output\n",
    "predicted = model.predict(data_2d_test)\n",
    "\n",
    "print(predicted)\n",
    "\n",
    "#plot_decision_boundary(data_2d_test, l_test, model, cmap=plt.cm.coolwarm)\n",
    "#plt.show()"
   ]
  },
  {
   "cell_type": "code",
   "execution_count": 49,
   "metadata": {},
   "outputs": [
    {
     "name": "stdout",
     "output_type": "stream",
     "text": [
      "169\n",
      "Acertos:  0.9388888888888889\n"
     ]
    }
   ],
   "source": [
    "count3 = 0\n",
    "for i in range(0,len(predicted)):\n",
    "    if (predicted[i]==l_test[i]):\n",
    "        count3 += 1\n",
    "\n",
    "print(count3)\n",
    "print('Acertos: ', count3/len(predicted))"
   ]
  },
  {
   "cell_type": "code",
   "execution_count": null,
   "metadata": {},
   "outputs": [],
   "source": []
  }
 ],
 "metadata": {
  "kernelspec": {
   "display_name": "Python 3",
   "language": "python",
   "name": "python3"
  },
  "language_info": {
   "codemirror_mode": {
    "name": "ipython",
    "version": 3
   },
   "file_extension": ".py",
   "mimetype": "text/x-python",
   "name": "python",
   "nbconvert_exporter": "python",
   "pygments_lexer": "ipython3",
   "version": "3.6.1"
  }
 },
 "nbformat": 4,
 "nbformat_minor": 2
}
