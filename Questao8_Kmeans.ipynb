{
 "cells": [
  {
   "cell_type": "code",
   "execution_count": 78,
   "metadata": {},
   "outputs": [
    {
     "name": "stdout",
     "output_type": "stream",
     "text": [
      "[1 1 1 1 1 1 1 2 1 2 0 2 0 2 3 4 3 3 4 2 2]\n"
     ]
    }
   ],
   "source": [
    "from sklearn.cluster import KMeans\n",
    "import numpy as np\n",
    "import matplotlib.pyplot as plt\n",
    "from mpl_toolkits.mplot3d import Axes3D\n",
    "\n",
    "X = np.array([\n",
    "    [0.88,0.99,0.91,1.1],\n",
    "    [0.9,0.99,0.93,1.26],\n",
    "    [0.9,0.98,0.94,1.24],\n",
    "    [0.87,0.98,0.97,1.18],\n",
    "    [0.93,0.93,0.93,1.20],\n",
    "    [0.89,0.97,0.92,1.04],\n",
    "    [0.88,0.87,0.91,1.41],\n",
    "    [0.81,0.92,0.8,0.55],\n",
    "    [0.82,0.92,0.75,1.05],\n",
    "    [0.85,0.9,0.64,0.07],\n",
    "    [0.77,0.85,0.69,-1.36],\n",
    "    [0.71,0.83,0.72,0.47],\n",
    "    [0.75,0.83,0.63,-0.87],\n",
    "    [0.7,0.62,0.6,0.21],\n",
    "    [0.44,0.58,0.37,-1.36],\n",
    "    [0.47,0.37,0.45,-0.68],\n",
    "    [0.23,0.33,0.27,-1.26],\n",
    "    [0.34,0.36,0.51,-1.98],\n",
    "    [0.31,0.35,0.32,-0.55],\n",
    "    [0.24,0.37,0.36,0.2],\n",
    "    [0.76,0.8,0.61,0.39],    \n",
    "])\n",
    "\n",
    "names = np.array(['Reino Unido',\n",
    "'Austrália',\n",
    "'Canadá',\n",
    "'Estados Unidos',\n",
    "'Japão',\n",
    "'França',\n",
    "'Cingapura',\n",
    "'Argentina',\n",
    "'Uruguai',\n",
    "'Cuba',\n",
    "'Colômbia',\n",
    "'Brasil',\n",
    "'Paraguai',\n",
    "'Egito',\n",
    "'Nigéria',\n",
    "'Senegal',\n",
    "'Serra Leoa',\n",
    "'Angola',\n",
    "'Etiópia',\n",
    "'Moçambique',\n",
    "'China'])\n",
    "\n",
    "kmeans = KMeans(n_clusters=5, random_state=0, max_iter=10000,tol=1e-5).fit(X)\n",
    "labels = kmeans.labels_\n",
    "print(labels)"
   ]
  },
  {
   "cell_type": "code",
   "execution_count": 79,
   "metadata": {},
   "outputs": [
    {
     "name": "stdout",
     "output_type": "stream",
     "text": [
      "Grupo de Países 1: \n",
      " ['Colômbia' 'Paraguai'] \n",
      "\n",
      "Grupo de Países 2: \n",
      " ['Reino Unido' 'Austrália' 'Canadá' 'Estados Unidos' 'Japão' 'França'\n",
      " 'Cingapura' 'Uruguai'] \n",
      "\n",
      "Grupo de Países 3: \n",
      " ['Argentina' 'Cuba' 'Brasil' 'Egito' 'Moçambique' 'China'] \n",
      "\n",
      "Grupo de Países 3: \n",
      " ['Nigéria' 'Serra Leoa' 'Angola'] \n",
      "\n",
      "Grupo de Países 3: \n",
      " ['Senegal' 'Etiópia'] \n",
      "\n",
      "Grupo de Países 3: \n",
      " [] \n",
      "\n"
     ]
    }
   ],
   "source": [
    "print('Grupo de Países 1: \\n',names[labels==0],'\\n')\n",
    "print('Grupo de Países 2: \\n',names[labels==1],'\\n')\n",
    "print('Grupo de Países 3: \\n',names[labels==2],'\\n')\n",
    "print('Grupo de Países 3: \\n',names[labels==3],'\\n')\n",
    "print('Grupo de Países 3: \\n',names[labels==4],'\\n')\n",
    "print('Grupo de Países 3: \\n',names[labels==5],'\\n')"
   ]
  }
 ],
 "metadata": {
  "kernelspec": {
   "display_name": "Python 3",
   "language": "python",
   "name": "python3"
  },
  "language_info": {
   "codemirror_mode": {
    "name": "ipython",
    "version": 3
   },
   "file_extension": ".py",
   "mimetype": "text/x-python",
   "name": "python",
   "nbconvert_exporter": "python",
   "pygments_lexer": "ipython3",
   "version": "3.6.1"
  }
 },
 "nbformat": 4,
 "nbformat_minor": 2
}
